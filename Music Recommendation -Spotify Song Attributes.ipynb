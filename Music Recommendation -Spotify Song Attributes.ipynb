{
 "cells": [
  {
   "cell_type": "code",
   "execution_count": 1,
   "metadata": {
    "collapsed": true
   },
   "outputs": [],
   "source": [
    "#importing libraries:\n",
    "import pandas as pd\n",
    "import numpy as np\n",
    "import matplotlib.pyplot as plt\n",
    "import seaborn as sns \n",
    "%matplotlib inline\n"
   ]
  },
  {
   "cell_type": "code",
   "execution_count": 2,
   "metadata": {
    "collapsed": true
   },
   "outputs": [],
   "source": [
    "#load and take a look at the data:\n",
    "df=pd.read_csv('top2018.csv')"
   ]
  },
  {
   "cell_type": "code",
   "execution_count": 3,
   "metadata": {},
   "outputs": [
    {
     "data": {
      "text/html": [
       "<div>\n",
       "<style>\n",
       "    .dataframe thead tr:only-child th {\n",
       "        text-align: right;\n",
       "    }\n",
       "\n",
       "    .dataframe thead th {\n",
       "        text-align: left;\n",
       "    }\n",
       "\n",
       "    .dataframe tbody tr th {\n",
       "        vertical-align: top;\n",
       "    }\n",
       "</style>\n",
       "<table border=\"1\" class=\"dataframe\">\n",
       "  <thead>\n",
       "    <tr style=\"text-align: right;\">\n",
       "      <th></th>\n",
       "      <th>id</th>\n",
       "      <th>name</th>\n",
       "      <th>artists</th>\n",
       "      <th>danceability</th>\n",
       "      <th>energy</th>\n",
       "      <th>key</th>\n",
       "      <th>loudness</th>\n",
       "      <th>mode</th>\n",
       "      <th>speechiness</th>\n",
       "      <th>acousticness</th>\n",
       "      <th>instrumentalness</th>\n",
       "      <th>liveness</th>\n",
       "      <th>valence</th>\n",
       "      <th>tempo</th>\n",
       "      <th>duration_ms</th>\n",
       "      <th>time_signature</th>\n",
       "    </tr>\n",
       "  </thead>\n",
       "  <tbody>\n",
       "    <tr>\n",
       "      <th>0</th>\n",
       "      <td>6DCZcSspjsKoFjzjrWoCd</td>\n",
       "      <td>God's Plan</td>\n",
       "      <td>Drake</td>\n",
       "      <td>0.754</td>\n",
       "      <td>0.449</td>\n",
       "      <td>7.0</td>\n",
       "      <td>-9.211</td>\n",
       "      <td>1.0</td>\n",
       "      <td>0.1090</td>\n",
       "      <td>0.0332</td>\n",
       "      <td>0.000083</td>\n",
       "      <td>0.552</td>\n",
       "      <td>0.357</td>\n",
       "      <td>77.169</td>\n",
       "      <td>198973.0</td>\n",
       "      <td>4.0</td>\n",
       "    </tr>\n",
       "    <tr>\n",
       "      <th>1</th>\n",
       "      <td>3ee8Jmje8o58CHK66QrVC</td>\n",
       "      <td>SAD!</td>\n",
       "      <td>XXXTENTACION</td>\n",
       "      <td>0.740</td>\n",
       "      <td>0.613</td>\n",
       "      <td>8.0</td>\n",
       "      <td>-4.880</td>\n",
       "      <td>1.0</td>\n",
       "      <td>0.1450</td>\n",
       "      <td>0.2580</td>\n",
       "      <td>0.003720</td>\n",
       "      <td>0.123</td>\n",
       "      <td>0.473</td>\n",
       "      <td>75.023</td>\n",
       "      <td>166606.0</td>\n",
       "      <td>4.0</td>\n",
       "    </tr>\n",
       "    <tr>\n",
       "      <th>2</th>\n",
       "      <td>0e7ipj03S05BNilyu5bRz</td>\n",
       "      <td>rockstar (feat. 21 Savage)</td>\n",
       "      <td>Post Malone</td>\n",
       "      <td>0.587</td>\n",
       "      <td>0.535</td>\n",
       "      <td>5.0</td>\n",
       "      <td>-6.090</td>\n",
       "      <td>0.0</td>\n",
       "      <td>0.0898</td>\n",
       "      <td>0.1170</td>\n",
       "      <td>0.000066</td>\n",
       "      <td>0.131</td>\n",
       "      <td>0.140</td>\n",
       "      <td>159.847</td>\n",
       "      <td>218147.0</td>\n",
       "      <td>4.0</td>\n",
       "    </tr>\n",
       "    <tr>\n",
       "      <th>3</th>\n",
       "      <td>3swc6WTsr7rl9DqQKQA55</td>\n",
       "      <td>Psycho (feat. Ty Dolla $ign)</td>\n",
       "      <td>Post Malone</td>\n",
       "      <td>0.739</td>\n",
       "      <td>0.559</td>\n",
       "      <td>8.0</td>\n",
       "      <td>-8.011</td>\n",
       "      <td>1.0</td>\n",
       "      <td>0.1170</td>\n",
       "      <td>0.5800</td>\n",
       "      <td>0.000000</td>\n",
       "      <td>0.112</td>\n",
       "      <td>0.439</td>\n",
       "      <td>140.124</td>\n",
       "      <td>221440.0</td>\n",
       "      <td>4.0</td>\n",
       "    </tr>\n",
       "    <tr>\n",
       "      <th>4</th>\n",
       "      <td>2G7V7zsVDxg1yRsu7Ew9R</td>\n",
       "      <td>In My Feelings</td>\n",
       "      <td>Drake</td>\n",
       "      <td>0.835</td>\n",
       "      <td>0.626</td>\n",
       "      <td>1.0</td>\n",
       "      <td>-5.833</td>\n",
       "      <td>1.0</td>\n",
       "      <td>0.1250</td>\n",
       "      <td>0.0589</td>\n",
       "      <td>0.000060</td>\n",
       "      <td>0.396</td>\n",
       "      <td>0.350</td>\n",
       "      <td>91.030</td>\n",
       "      <td>217925.0</td>\n",
       "      <td>4.0</td>\n",
       "    </tr>\n",
       "  </tbody>\n",
       "</table>\n",
       "</div>"
      ],
      "text/plain": [
       "                      id                          name       artists  \\\n",
       "0  6DCZcSspjsKoFjzjrWoCd                    God's Plan         Drake   \n",
       "1  3ee8Jmje8o58CHK66QrVC                          SAD!  XXXTENTACION   \n",
       "2  0e7ipj03S05BNilyu5bRz    rockstar (feat. 21 Savage)   Post Malone   \n",
       "3  3swc6WTsr7rl9DqQKQA55  Psycho (feat. Ty Dolla $ign)   Post Malone   \n",
       "4  2G7V7zsVDxg1yRsu7Ew9R                In My Feelings         Drake   \n",
       "\n",
       "   danceability  energy  key  loudness  mode  speechiness  acousticness  \\\n",
       "0         0.754   0.449  7.0    -9.211   1.0       0.1090        0.0332   \n",
       "1         0.740   0.613  8.0    -4.880   1.0       0.1450        0.2580   \n",
       "2         0.587   0.535  5.0    -6.090   0.0       0.0898        0.1170   \n",
       "3         0.739   0.559  8.0    -8.011   1.0       0.1170        0.5800   \n",
       "4         0.835   0.626  1.0    -5.833   1.0       0.1250        0.0589   \n",
       "\n",
       "   instrumentalness  liveness  valence    tempo  duration_ms  time_signature  \n",
       "0          0.000083     0.552    0.357   77.169     198973.0             4.0  \n",
       "1          0.003720     0.123    0.473   75.023     166606.0             4.0  \n",
       "2          0.000066     0.131    0.140  159.847     218147.0             4.0  \n",
       "3          0.000000     0.112    0.439  140.124     221440.0             4.0  \n",
       "4          0.000060     0.396    0.350   91.030     217925.0             4.0  "
      ]
     },
     "execution_count": 3,
     "metadata": {},
     "output_type": "execute_result"
    }
   ],
   "source": [
    "df.head()"
   ]
  },
  {
   "cell_type": "code",
   "execution_count": 4,
   "metadata": {},
   "outputs": [
    {
     "data": {
      "text/html": [
       "<div>\n",
       "<style>\n",
       "    .dataframe thead tr:only-child th {\n",
       "        text-align: right;\n",
       "    }\n",
       "\n",
       "    .dataframe thead th {\n",
       "        text-align: left;\n",
       "    }\n",
       "\n",
       "    .dataframe tbody tr th {\n",
       "        vertical-align: top;\n",
       "    }\n",
       "</style>\n",
       "<table border=\"1\" class=\"dataframe\">\n",
       "  <thead>\n",
       "    <tr style=\"text-align: right;\">\n",
       "      <th></th>\n",
       "      <th>id</th>\n",
       "      <th>name</th>\n",
       "      <th>artists</th>\n",
       "      <th>danceability</th>\n",
       "      <th>energy</th>\n",
       "      <th>key</th>\n",
       "      <th>loudness</th>\n",
       "      <th>mode</th>\n",
       "      <th>speechiness</th>\n",
       "      <th>acousticness</th>\n",
       "      <th>instrumentalness</th>\n",
       "      <th>liveness</th>\n",
       "      <th>valence</th>\n",
       "      <th>tempo</th>\n",
       "      <th>duration_ms</th>\n",
       "      <th>time_signature</th>\n",
       "    </tr>\n",
       "  </thead>\n",
       "  <tbody>\n",
       "    <tr>\n",
       "      <th>95</th>\n",
       "      <td>630sXRhIcfwr2e4RdNtjK</td>\n",
       "      <td>Rewrite The Stars</td>\n",
       "      <td>Zac Efron</td>\n",
       "      <td>0.684</td>\n",
       "      <td>0.619</td>\n",
       "      <td>10.0</td>\n",
       "      <td>-7.005</td>\n",
       "      <td>1.0</td>\n",
       "      <td>0.0386</td>\n",
       "      <td>0.0716</td>\n",
       "      <td>0.000000</td>\n",
       "      <td>0.1220</td>\n",
       "      <td>0.2840</td>\n",
       "      <td>125.046</td>\n",
       "      <td>217440.0</td>\n",
       "      <td>4.0</td>\n",
       "    </tr>\n",
       "    <tr>\n",
       "      <th>96</th>\n",
       "      <td>2xmrfQpmS2iJExTlklLoA</td>\n",
       "      <td>I Miss You (feat. Julia Michaels)</td>\n",
       "      <td>Clean Bandit</td>\n",
       "      <td>0.638</td>\n",
       "      <td>0.658</td>\n",
       "      <td>3.0</td>\n",
       "      <td>-6.318</td>\n",
       "      <td>1.0</td>\n",
       "      <td>0.0456</td>\n",
       "      <td>0.2450</td>\n",
       "      <td>0.000004</td>\n",
       "      <td>0.0919</td>\n",
       "      <td>0.3300</td>\n",
       "      <td>105.076</td>\n",
       "      <td>205748.0</td>\n",
       "      <td>4.0</td>\n",
       "    </tr>\n",
       "    <tr>\n",
       "      <th>97</th>\n",
       "      <td>5WvAo7DNuPRmk4APhdPzi</td>\n",
       "      <td>No Brainer</td>\n",
       "      <td>DJ Khaled</td>\n",
       "      <td>0.552</td>\n",
       "      <td>0.760</td>\n",
       "      <td>0.0</td>\n",
       "      <td>-4.706</td>\n",
       "      <td>1.0</td>\n",
       "      <td>0.3420</td>\n",
       "      <td>0.0733</td>\n",
       "      <td>0.000000</td>\n",
       "      <td>0.0865</td>\n",
       "      <td>0.6390</td>\n",
       "      <td>135.702</td>\n",
       "      <td>260000.0</td>\n",
       "      <td>5.0</td>\n",
       "    </tr>\n",
       "    <tr>\n",
       "      <th>98</th>\n",
       "      <td>1j4kHkkpqZRBwE0A4CN4Y</td>\n",
       "      <td>Dusk Till Dawn - Radio Edit</td>\n",
       "      <td>ZAYN</td>\n",
       "      <td>0.258</td>\n",
       "      <td>0.437</td>\n",
       "      <td>11.0</td>\n",
       "      <td>-6.593</td>\n",
       "      <td>0.0</td>\n",
       "      <td>0.0390</td>\n",
       "      <td>0.1010</td>\n",
       "      <td>0.000001</td>\n",
       "      <td>0.1060</td>\n",
       "      <td>0.0967</td>\n",
       "      <td>180.043</td>\n",
       "      <td>239000.0</td>\n",
       "      <td>4.0</td>\n",
       "    </tr>\n",
       "    <tr>\n",
       "      <th>99</th>\n",
       "      <td>3EPXxR3ImUwfayaurPi3c</td>\n",
       "      <td>Be Alright</td>\n",
       "      <td>Dean Lewis</td>\n",
       "      <td>0.553</td>\n",
       "      <td>0.586</td>\n",
       "      <td>11.0</td>\n",
       "      <td>-6.319</td>\n",
       "      <td>1.0</td>\n",
       "      <td>0.0362</td>\n",
       "      <td>0.6970</td>\n",
       "      <td>0.000000</td>\n",
       "      <td>0.0813</td>\n",
       "      <td>0.4430</td>\n",
       "      <td>126.684</td>\n",
       "      <td>196373.0</td>\n",
       "      <td>4.0</td>\n",
       "    </tr>\n",
       "  </tbody>\n",
       "</table>\n",
       "</div>"
      ],
      "text/plain": [
       "                       id                               name       artists  \\\n",
       "95  630sXRhIcfwr2e4RdNtjK                  Rewrite The Stars     Zac Efron   \n",
       "96  2xmrfQpmS2iJExTlklLoA  I Miss You (feat. Julia Michaels)  Clean Bandit   \n",
       "97  5WvAo7DNuPRmk4APhdPzi                         No Brainer     DJ Khaled   \n",
       "98  1j4kHkkpqZRBwE0A4CN4Y        Dusk Till Dawn - Radio Edit          ZAYN   \n",
       "99  3EPXxR3ImUwfayaurPi3c                         Be Alright    Dean Lewis   \n",
       "\n",
       "    danceability  energy   key  loudness  mode  speechiness  acousticness  \\\n",
       "95         0.684   0.619  10.0    -7.005   1.0       0.0386        0.0716   \n",
       "96         0.638   0.658   3.0    -6.318   1.0       0.0456        0.2450   \n",
       "97         0.552   0.760   0.0    -4.706   1.0       0.3420        0.0733   \n",
       "98         0.258   0.437  11.0    -6.593   0.0       0.0390        0.1010   \n",
       "99         0.553   0.586  11.0    -6.319   1.0       0.0362        0.6970   \n",
       "\n",
       "    instrumentalness  liveness  valence    tempo  duration_ms  time_signature  \n",
       "95          0.000000    0.1220   0.2840  125.046     217440.0             4.0  \n",
       "96          0.000004    0.0919   0.3300  105.076     205748.0             4.0  \n",
       "97          0.000000    0.0865   0.6390  135.702     260000.0             5.0  \n",
       "98          0.000001    0.1060   0.0967  180.043     239000.0             4.0  \n",
       "99          0.000000    0.0813   0.4430  126.684     196373.0             4.0  "
      ]
     },
     "execution_count": 4,
     "metadata": {},
     "output_type": "execute_result"
    }
   ],
   "source": [
    "df.tail()"
   ]
  },
  {
   "cell_type": "code",
   "execution_count": 5,
   "metadata": {},
   "outputs": [
    {
     "name": "stdout",
     "output_type": "stream",
     "text": [
      "<class 'pandas.core.frame.DataFrame'>\n",
      "RangeIndex: 100 entries, 0 to 99\n",
      "Data columns (total 16 columns):\n",
      "id                  100 non-null object\n",
      "name                100 non-null object\n",
      "artists             100 non-null object\n",
      "danceability        100 non-null float64\n",
      "energy              100 non-null float64\n",
      "key                 100 non-null float64\n",
      "loudness            100 non-null float64\n",
      "mode                100 non-null float64\n",
      "speechiness         100 non-null float64\n",
      "acousticness        100 non-null float64\n",
      "instrumentalness    100 non-null float64\n",
      "liveness            100 non-null float64\n",
      "valence             100 non-null float64\n",
      "tempo               100 non-null float64\n",
      "duration_ms         100 non-null float64\n",
      "time_signature      100 non-null float64\n",
      "dtypes: float64(13), object(3)\n",
      "memory usage: 12.6+ KB\n"
     ]
    }
   ],
   "source": [
    "df.info()"
   ]
  },
  {
   "cell_type": "code",
   "execution_count": 7,
   "metadata": {},
   "outputs": [
    {
     "data": {
      "text/html": [
       "<div>\n",
       "<style>\n",
       "    .dataframe thead tr:only-child th {\n",
       "        text-align: right;\n",
       "    }\n",
       "\n",
       "    .dataframe thead th {\n",
       "        text-align: left;\n",
       "    }\n",
       "\n",
       "    .dataframe tbody tr th {\n",
       "        vertical-align: top;\n",
       "    }\n",
       "</style>\n",
       "<table border=\"1\" class=\"dataframe\">\n",
       "  <thead>\n",
       "    <tr style=\"text-align: right;\">\n",
       "      <th></th>\n",
       "      <th>danceability</th>\n",
       "      <th>energy</th>\n",
       "      <th>key</th>\n",
       "      <th>loudness</th>\n",
       "      <th>mode</th>\n",
       "      <th>speechiness</th>\n",
       "      <th>acousticness</th>\n",
       "      <th>instrumentalness</th>\n",
       "      <th>liveness</th>\n",
       "      <th>valence</th>\n",
       "      <th>tempo</th>\n",
       "      <th>duration_ms</th>\n",
       "      <th>time_signature</th>\n",
       "    </tr>\n",
       "  </thead>\n",
       "  <tbody>\n",
       "    <tr>\n",
       "      <th>count</th>\n",
       "      <td>100.00000</td>\n",
       "      <td>100.000000</td>\n",
       "      <td>100.000000</td>\n",
       "      <td>100.000000</td>\n",
       "      <td>100.000000</td>\n",
       "      <td>100.000000</td>\n",
       "      <td>100.000000</td>\n",
       "      <td>100.000000</td>\n",
       "      <td>100.000000</td>\n",
       "      <td>100.000000</td>\n",
       "      <td>100.000000</td>\n",
       "      <td>100.000000</td>\n",
       "      <td>100.00</td>\n",
       "    </tr>\n",
       "    <tr>\n",
       "      <th>mean</th>\n",
       "      <td>0.71646</td>\n",
       "      <td>0.659060</td>\n",
       "      <td>5.330000</td>\n",
       "      <td>-5.677640</td>\n",
       "      <td>0.590000</td>\n",
       "      <td>0.115569</td>\n",
       "      <td>0.195701</td>\n",
       "      <td>0.001584</td>\n",
       "      <td>0.158302</td>\n",
       "      <td>0.484443</td>\n",
       "      <td>119.904180</td>\n",
       "      <td>205206.780000</td>\n",
       "      <td>3.98</td>\n",
       "    </tr>\n",
       "    <tr>\n",
       "      <th>std</th>\n",
       "      <td>0.13107</td>\n",
       "      <td>0.145067</td>\n",
       "      <td>3.676447</td>\n",
       "      <td>1.777577</td>\n",
       "      <td>0.494311</td>\n",
       "      <td>0.104527</td>\n",
       "      <td>0.220946</td>\n",
       "      <td>0.013449</td>\n",
       "      <td>0.111662</td>\n",
       "      <td>0.206145</td>\n",
       "      <td>28.795984</td>\n",
       "      <td>40007.893404</td>\n",
       "      <td>0.20</td>\n",
       "    </tr>\n",
       "    <tr>\n",
       "      <th>min</th>\n",
       "      <td>0.25800</td>\n",
       "      <td>0.296000</td>\n",
       "      <td>0.000000</td>\n",
       "      <td>-10.109000</td>\n",
       "      <td>0.000000</td>\n",
       "      <td>0.023200</td>\n",
       "      <td>0.000282</td>\n",
       "      <td>0.000000</td>\n",
       "      <td>0.021500</td>\n",
       "      <td>0.079600</td>\n",
       "      <td>64.934000</td>\n",
       "      <td>95467.000000</td>\n",
       "      <td>3.00</td>\n",
       "    </tr>\n",
       "    <tr>\n",
       "      <th>25%</th>\n",
       "      <td>0.63550</td>\n",
       "      <td>0.562000</td>\n",
       "      <td>1.750000</td>\n",
       "      <td>-6.650500</td>\n",
       "      <td>0.000000</td>\n",
       "      <td>0.045350</td>\n",
       "      <td>0.040225</td>\n",
       "      <td>0.000000</td>\n",
       "      <td>0.094675</td>\n",
       "      <td>0.341000</td>\n",
       "      <td>95.730750</td>\n",
       "      <td>184680.000000</td>\n",
       "      <td>4.00</td>\n",
       "    </tr>\n",
       "    <tr>\n",
       "      <th>50%</th>\n",
       "      <td>0.73300</td>\n",
       "      <td>0.678000</td>\n",
       "      <td>5.000000</td>\n",
       "      <td>-5.566500</td>\n",
       "      <td>1.000000</td>\n",
       "      <td>0.074950</td>\n",
       "      <td>0.109000</td>\n",
       "      <td>0.000000</td>\n",
       "      <td>0.118500</td>\n",
       "      <td>0.470500</td>\n",
       "      <td>120.116000</td>\n",
       "      <td>205047.500000</td>\n",
       "      <td>4.00</td>\n",
       "    </tr>\n",
       "    <tr>\n",
       "      <th>75%</th>\n",
       "      <td>0.79825</td>\n",
       "      <td>0.772250</td>\n",
       "      <td>8.250000</td>\n",
       "      <td>-4.363750</td>\n",
       "      <td>1.000000</td>\n",
       "      <td>0.137000</td>\n",
       "      <td>0.247750</td>\n",
       "      <td>0.000031</td>\n",
       "      <td>0.170750</td>\n",
       "      <td>0.641500</td>\n",
       "      <td>140.022750</td>\n",
       "      <td>221493.250000</td>\n",
       "      <td>4.00</td>\n",
       "    </tr>\n",
       "    <tr>\n",
       "      <th>max</th>\n",
       "      <td>0.96400</td>\n",
       "      <td>0.909000</td>\n",
       "      <td>11.000000</td>\n",
       "      <td>-2.384000</td>\n",
       "      <td>1.000000</td>\n",
       "      <td>0.530000</td>\n",
       "      <td>0.934000</td>\n",
       "      <td>0.134000</td>\n",
       "      <td>0.636000</td>\n",
       "      <td>0.931000</td>\n",
       "      <td>198.075000</td>\n",
       "      <td>417920.000000</td>\n",
       "      <td>5.00</td>\n",
       "    </tr>\n",
       "  </tbody>\n",
       "</table>\n",
       "</div>"
      ],
      "text/plain": [
       "       danceability      energy         key    loudness        mode  \\\n",
       "count     100.00000  100.000000  100.000000  100.000000  100.000000   \n",
       "mean        0.71646    0.659060    5.330000   -5.677640    0.590000   \n",
       "std         0.13107    0.145067    3.676447    1.777577    0.494311   \n",
       "min         0.25800    0.296000    0.000000  -10.109000    0.000000   \n",
       "25%         0.63550    0.562000    1.750000   -6.650500    0.000000   \n",
       "50%         0.73300    0.678000    5.000000   -5.566500    1.000000   \n",
       "75%         0.79825    0.772250    8.250000   -4.363750    1.000000   \n",
       "max         0.96400    0.909000   11.000000   -2.384000    1.000000   \n",
       "\n",
       "       speechiness  acousticness  instrumentalness    liveness     valence  \\\n",
       "count   100.000000    100.000000        100.000000  100.000000  100.000000   \n",
       "mean      0.115569      0.195701          0.001584    0.158302    0.484443   \n",
       "std       0.104527      0.220946          0.013449    0.111662    0.206145   \n",
       "min       0.023200      0.000282          0.000000    0.021500    0.079600   \n",
       "25%       0.045350      0.040225          0.000000    0.094675    0.341000   \n",
       "50%       0.074950      0.109000          0.000000    0.118500    0.470500   \n",
       "75%       0.137000      0.247750          0.000031    0.170750    0.641500   \n",
       "max       0.530000      0.934000          0.134000    0.636000    0.931000   \n",
       "\n",
       "            tempo    duration_ms  time_signature  \n",
       "count  100.000000     100.000000          100.00  \n",
       "mean   119.904180  205206.780000            3.98  \n",
       "std     28.795984   40007.893404            0.20  \n",
       "min     64.934000   95467.000000            3.00  \n",
       "25%     95.730750  184680.000000            4.00  \n",
       "50%    120.116000  205047.500000            4.00  \n",
       "75%    140.022750  221493.250000            4.00  \n",
       "max    198.075000  417920.000000            5.00  "
      ]
     },
     "execution_count": 7,
     "metadata": {},
     "output_type": "execute_result"
    }
   ],
   "source": [
    "df.describe()"
   ]
  },
  {
   "cell_type": "code",
   "execution_count": 8,
   "metadata": {},
   "outputs": [
    {
     "data": {
      "text/html": [
       "<div>\n",
       "<style>\n",
       "    .dataframe thead tr:only-child th {\n",
       "        text-align: right;\n",
       "    }\n",
       "\n",
       "    .dataframe thead th {\n",
       "        text-align: left;\n",
       "    }\n",
       "\n",
       "    .dataframe tbody tr th {\n",
       "        vertical-align: top;\n",
       "    }\n",
       "</style>\n",
       "<table border=\"1\" class=\"dataframe\">\n",
       "  <thead>\n",
       "    <tr style=\"text-align: right;\">\n",
       "      <th></th>\n",
       "      <th>id</th>\n",
       "      <th>name</th>\n",
       "      <th>artists</th>\n",
       "      <th>danceability</th>\n",
       "      <th>energy</th>\n",
       "      <th>key</th>\n",
       "      <th>loudness</th>\n",
       "      <th>mode</th>\n",
       "      <th>speechiness</th>\n",
       "      <th>acousticness</th>\n",
       "      <th>instrumentalness</th>\n",
       "      <th>liveness</th>\n",
       "      <th>valence</th>\n",
       "      <th>tempo</th>\n",
       "      <th>duration_ms</th>\n",
       "      <th>time_signature</th>\n",
       "    </tr>\n",
       "  </thead>\n",
       "  <tbody>\n",
       "    <tr>\n",
       "      <th>0</th>\n",
       "      <td>6DCZcSspjsKoFjzjrWoCd</td>\n",
       "      <td>God's Plan</td>\n",
       "      <td>Drake</td>\n",
       "      <td>0.754</td>\n",
       "      <td>0.449</td>\n",
       "      <td>7.0</td>\n",
       "      <td>-9.211</td>\n",
       "      <td>1.0</td>\n",
       "      <td>0.1090</td>\n",
       "      <td>0.0332</td>\n",
       "      <td>0.000083</td>\n",
       "      <td>0.552</td>\n",
       "      <td>0.357</td>\n",
       "      <td>77.169</td>\n",
       "      <td>198973.0</td>\n",
       "      <td>4.0</td>\n",
       "    </tr>\n",
       "    <tr>\n",
       "      <th>1</th>\n",
       "      <td>3ee8Jmje8o58CHK66QrVC</td>\n",
       "      <td>SAD!</td>\n",
       "      <td>XXXTENTACION</td>\n",
       "      <td>0.740</td>\n",
       "      <td>0.613</td>\n",
       "      <td>8.0</td>\n",
       "      <td>-4.880</td>\n",
       "      <td>1.0</td>\n",
       "      <td>0.1450</td>\n",
       "      <td>0.2580</td>\n",
       "      <td>0.003720</td>\n",
       "      <td>0.123</td>\n",
       "      <td>0.473</td>\n",
       "      <td>75.023</td>\n",
       "      <td>166606.0</td>\n",
       "      <td>4.0</td>\n",
       "    </tr>\n",
       "    <tr>\n",
       "      <th>2</th>\n",
       "      <td>0e7ipj03S05BNilyu5bRz</td>\n",
       "      <td>rockstar (feat. 21 Savage)</td>\n",
       "      <td>Post Malone</td>\n",
       "      <td>0.587</td>\n",
       "      <td>0.535</td>\n",
       "      <td>5.0</td>\n",
       "      <td>-6.090</td>\n",
       "      <td>0.0</td>\n",
       "      <td>0.0898</td>\n",
       "      <td>0.1170</td>\n",
       "      <td>0.000066</td>\n",
       "      <td>0.131</td>\n",
       "      <td>0.140</td>\n",
       "      <td>159.847</td>\n",
       "      <td>218147.0</td>\n",
       "      <td>4.0</td>\n",
       "    </tr>\n",
       "    <tr>\n",
       "      <th>3</th>\n",
       "      <td>3swc6WTsr7rl9DqQKQA55</td>\n",
       "      <td>Psycho (feat. Ty Dolla $ign)</td>\n",
       "      <td>Post Malone</td>\n",
       "      <td>0.739</td>\n",
       "      <td>0.559</td>\n",
       "      <td>8.0</td>\n",
       "      <td>-8.011</td>\n",
       "      <td>1.0</td>\n",
       "      <td>0.1170</td>\n",
       "      <td>0.5800</td>\n",
       "      <td>0.000000</td>\n",
       "      <td>0.112</td>\n",
       "      <td>0.439</td>\n",
       "      <td>140.124</td>\n",
       "      <td>221440.0</td>\n",
       "      <td>4.0</td>\n",
       "    </tr>\n",
       "    <tr>\n",
       "      <th>4</th>\n",
       "      <td>2G7V7zsVDxg1yRsu7Ew9R</td>\n",
       "      <td>In My Feelings</td>\n",
       "      <td>Drake</td>\n",
       "      <td>0.835</td>\n",
       "      <td>0.626</td>\n",
       "      <td>1.0</td>\n",
       "      <td>-5.833</td>\n",
       "      <td>1.0</td>\n",
       "      <td>0.1250</td>\n",
       "      <td>0.0589</td>\n",
       "      <td>0.000060</td>\n",
       "      <td>0.396</td>\n",
       "      <td>0.350</td>\n",
       "      <td>91.030</td>\n",
       "      <td>217925.0</td>\n",
       "      <td>4.0</td>\n",
       "    </tr>\n",
       "  </tbody>\n",
       "</table>\n",
       "</div>"
      ],
      "text/plain": [
       "                      id                          name       artists  \\\n",
       "0  6DCZcSspjsKoFjzjrWoCd                    God's Plan         Drake   \n",
       "1  3ee8Jmje8o58CHK66QrVC                          SAD!  XXXTENTACION   \n",
       "2  0e7ipj03S05BNilyu5bRz    rockstar (feat. 21 Savage)   Post Malone   \n",
       "3  3swc6WTsr7rl9DqQKQA55  Psycho (feat. Ty Dolla $ign)   Post Malone   \n",
       "4  2G7V7zsVDxg1yRsu7Ew9R                In My Feelings         Drake   \n",
       "\n",
       "   danceability  energy  key  loudness  mode  speechiness  acousticness  \\\n",
       "0         0.754   0.449  7.0    -9.211   1.0       0.1090        0.0332   \n",
       "1         0.740   0.613  8.0    -4.880   1.0       0.1450        0.2580   \n",
       "2         0.587   0.535  5.0    -6.090   0.0       0.0898        0.1170   \n",
       "3         0.739   0.559  8.0    -8.011   1.0       0.1170        0.5800   \n",
       "4         0.835   0.626  1.0    -5.833   1.0       0.1250        0.0589   \n",
       "\n",
       "   instrumentalness  liveness  valence    tempo  duration_ms  time_signature  \n",
       "0          0.000083     0.552    0.357   77.169     198973.0             4.0  \n",
       "1          0.003720     0.123    0.473   75.023     166606.0             4.0  \n",
       "2          0.000066     0.131    0.140  159.847     218147.0             4.0  \n",
       "3          0.000000     0.112    0.439  140.124     221440.0             4.0  \n",
       "4          0.000060     0.396    0.350   91.030     217925.0             4.0  "
      ]
     },
     "execution_count": 8,
     "metadata": {},
     "output_type": "execute_result"
    }
   ],
   "source": [
    "df.head()"
   ]
  },
  {
   "cell_type": "code",
   "execution_count": 10,
   "metadata": {},
   "outputs": [],
   "source": [
    "df.drop(['id','name','artists'],axis=1,inplace=True)"
   ]
  },
  {
   "cell_type": "code",
   "execution_count": 58,
   "metadata": {},
   "outputs": [
    {
     "data": {
      "text/plain": [
       "danceability        0\n",
       "energy              0\n",
       "key                 0\n",
       "loudness            0\n",
       "speechiness         0\n",
       "acousticness        0\n",
       "instrumentalness    0\n",
       "liveness            0\n",
       "valence             0\n",
       "tempo               0\n",
       "duration_ms         0\n",
       "time_signature      0\n",
       "dtype: int64"
      ]
     },
     "execution_count": 58,
     "metadata": {},
     "output_type": "execute_result"
    }
   ],
   "source": [
    "#check for the null values: \n",
    "df.isnull().sum()"
   ]
  },
  {
   "cell_type": "code",
   "execution_count": 14,
   "metadata": {},
   "outputs": [],
   "source": [
    "y=df['mode']\n",
    "df.drop(['mode'],axis=1,inplace=True)"
   ]
  },
  {
   "cell_type": "code",
   "execution_count": 16,
   "metadata": {},
   "outputs": [],
   "source": [
    "X=df.values"
   ]
  },
  {
   "cell_type": "code",
   "execution_count": 18,
   "metadata": {},
   "outputs": [],
   "source": [
    "# Split the dataset into 75% Training set and 25% Testing set\n",
    "from sklearn.model_selection import train_test_split\n",
    "X_train, X_test, Y_train, Y_test = train_test_split(X, y, test_size = 0.25, random_state = 0)"
   ]
  },
  {
   "cell_type": "code",
   "execution_count": 19,
   "metadata": {
    "collapsed": true
   },
   "outputs": [],
   "source": [
    "#scaling the data:\n",
    "from sklearn.preprocessing import StandardScaler\n",
    "sc = StandardScaler()\n",
    "X_train = sc.fit_transform(X_train)\n",
    "X_test = sc.transform(X_test)"
   ]
  },
  {
   "cell_type": "code",
   "execution_count": 24,
   "metadata": {},
   "outputs": [
    {
     "data": {
      "text/plain": [
       "LogisticRegression(C=1.0, class_weight=None, dual=False, fit_intercept=True,\n",
       "          intercept_scaling=1, max_iter=100, multi_class='ovr', n_jobs=1,\n",
       "          penalty='l2', random_state=0, solver='liblinear', tol=0.0001,\n",
       "          verbose=0, warm_start=False)"
      ]
     },
     "execution_count": 24,
     "metadata": {},
     "output_type": "execute_result"
    }
   ],
   "source": [
    "#Using Logistic Regression Algorithm to the Training Set\n",
    "from sklearn.linear_model import LogisticRegression\n",
    "log = LogisticRegression(random_state = 0)\n",
    "log.fit(X_train, Y_train)"
   ]
  },
  {
   "cell_type": "code",
   "execution_count": 26,
   "metadata": {},
   "outputs": [
    {
     "name": "stdout",
     "output_type": "stream",
     "text": [
      "Logistic Regression Training Accuracy: 0.72\n"
     ]
    }
   ],
   "source": [
    "print('Logistic Regression Training Accuracy:', log.score(X_train, Y_train))"
   ]
  },
  {
   "cell_type": "code",
   "execution_count": 27,
   "metadata": {},
   "outputs": [
    {
     "data": {
      "text/plain": [
       "KNeighborsClassifier(algorithm='auto', leaf_size=30, metric='minkowski',\n",
       "           metric_params=None, n_jobs=1, n_neighbors=5, p=2,\n",
       "           weights='uniform')"
      ]
     },
     "execution_count": 27,
     "metadata": {},
     "output_type": "execute_result"
    }
   ],
   "source": [
    "#Using KNeighborsClassifier Method of neighbors class to use Nearest Neighbor algorithm\n",
    "from sklearn.neighbors import KNeighborsClassifier\n",
    "knn = KNeighborsClassifier(n_neighbors = 5, metric = 'minkowski', p = 2)\n",
    "knn.fit(X_train, Y_train)"
   ]
  },
  {
   "cell_type": "code",
   "execution_count": 38,
   "metadata": {},
   "outputs": [
    {
     "name": "stdout",
     "output_type": "stream",
     "text": [
      "K Nearest Neighbor Training Accuracy: 0.64\n"
     ]
    }
   ],
   "source": [
    "print('K Nearest Neighbor Training Accuracy:', knn.score(X_train, Y_train))\n"
   ]
  },
  {
   "cell_type": "code",
   "execution_count": 29,
   "metadata": {},
   "outputs": [
    {
     "data": {
      "text/plain": [
       "SVC(C=1.0, cache_size=200, class_weight=None, coef0=0.0,\n",
       "  decision_function_shape=None, degree=3, gamma='auto', kernel='linear',\n",
       "  max_iter=-1, probability=False, random_state=0, shrinking=True,\n",
       "  tol=0.001, verbose=False)"
      ]
     },
     "execution_count": 29,
     "metadata": {},
     "output_type": "execute_result"
    }
   ],
   "source": [
    "#Using SVC method of svm class to use Support Vector Machine Algorithm\n",
    "from sklearn.svm import SVC\n",
    "svc_lin = SVC(kernel = 'linear', random_state = 0)\n",
    "svc_lin.fit(X_train, Y_train)"
   ]
  },
  {
   "cell_type": "code",
   "execution_count": 39,
   "metadata": {},
   "outputs": [
    {
     "name": "stdout",
     "output_type": "stream",
     "text": [
      "Support Vector Machine (Linear Classifier) Training Accuracy: 0.72\n"
     ]
    }
   ],
   "source": [
    "print('Support Vector Machine (Linear Classifier) Training Accuracy:', svc_lin.score(X_train, Y_train))"
   ]
  },
  {
   "cell_type": "code",
   "execution_count": 31,
   "metadata": {},
   "outputs": [
    {
     "data": {
      "text/plain": [
       "SVC(C=1.0, cache_size=200, class_weight=None, coef0=0.0,\n",
       "  decision_function_shape=None, degree=3, gamma='auto', kernel='rbf',\n",
       "  max_iter=-1, probability=False, random_state=0, shrinking=True,\n",
       "  tol=0.001, verbose=False)"
      ]
     },
     "execution_count": 31,
     "metadata": {},
     "output_type": "execute_result"
    }
   ],
   "source": [
    "#Using SVC method of svm class to use Kernel SVM Algorithm\n",
    "from sklearn.svm import SVC\n",
    "svc_rbf = SVC(kernel = 'rbf', random_state = 0)\n",
    "svc_rbf.fit(X_train, Y_train)"
   ]
  },
  {
   "cell_type": "code",
   "execution_count": 40,
   "metadata": {},
   "outputs": [
    {
     "name": "stdout",
     "output_type": "stream",
     "text": [
      "Support Vector Machine (RBF Classifier) Training Accuracy: 0.826666666667\n"
     ]
    }
   ],
   "source": [
    "print('Support Vector Machine (RBF Classifier) Training Accuracy:', svc_rbf.score(X_train, Y_train))"
   ]
  },
  {
   "cell_type": "code",
   "execution_count": 33,
   "metadata": {},
   "outputs": [
    {
     "data": {
      "text/plain": [
       "GaussianNB(priors=None)"
      ]
     },
     "execution_count": 33,
     "metadata": {},
     "output_type": "execute_result"
    }
   ],
   "source": [
    "#Using GaussianNB method of naïve_bayes class to use Naïve Bayes Algorithm\n",
    "from sklearn.naive_bayes import GaussianNB\n",
    "gauss = GaussianNB()\n",
    "gauss.fit(X_train, Y_train)"
   ]
  },
  {
   "cell_type": "code",
   "execution_count": 41,
   "metadata": {},
   "outputs": [
    {
     "name": "stdout",
     "output_type": "stream",
     "text": [
      "Gaussian Naive Bayes Training Accuracy: 0.506666666667\n"
     ]
    }
   ],
   "source": [
    "print('Gaussian Naive Bayes Training Accuracy:', gauss.score(X_train, Y_train))\n"
   ]
  },
  {
   "cell_type": "code",
   "execution_count": 43,
   "metadata": {},
   "outputs": [
    {
     "data": {
      "text/plain": [
       "DecisionTreeClassifier(class_weight=None, criterion='entropy', max_depth=None,\n",
       "            max_features=None, max_leaf_nodes=None,\n",
       "            min_impurity_split=1e-07, min_samples_leaf=1,\n",
       "            min_samples_split=2, min_weight_fraction_leaf=0.0,\n",
       "            presort=False, random_state=1, splitter='best')"
      ]
     },
     "execution_count": 43,
     "metadata": {},
     "output_type": "execute_result"
    }
   ],
   "source": [
    "#Using DecisionTreeClassifier of tree class to use Decision Tree Algorithm\n",
    "from sklearn.tree import DecisionTreeClassifier\n",
    "tree = DecisionTreeClassifier(criterion = 'entropy', random_state = 1)\n",
    "tree.fit(X_train, Y_train)\n"
   ]
  },
  {
   "cell_type": "code",
   "execution_count": 44,
   "metadata": {},
   "outputs": [
    {
     "name": "stdout",
     "output_type": "stream",
     "text": [
      "Decision Tree Classifier Training Accuracy: 1.0\n"
     ]
    }
   ],
   "source": [
    "print('Decision Tree Classifier Training Accuracy:', tree.score(X_train, Y_train))"
   ]
  }
 ],
 "metadata": {
  "kernelspec": {
   "display_name": "Python 3",
   "language": "python",
   "name": "python3"
  },
  "language_info": {
   "codemirror_mode": {
    "name": "ipython",
    "version": 3
   },
   "file_extension": ".py",
   "mimetype": "text/x-python",
   "name": "python",
   "nbconvert_exporter": "python",
   "pygments_lexer": "ipython3",
   "version": "3.6.1"
  }
 },
 "nbformat": 4,
 "nbformat_minor": 2
}
